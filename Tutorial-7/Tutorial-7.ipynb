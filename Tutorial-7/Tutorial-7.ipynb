{
 "cells": [
  {
   "cell_type": "code",
   "execution_count": 2,
   "metadata": {},
   "outputs": [
    {
     "name": "stdout",
     "output_type": "stream",
     "text": [
      "Collecting cvxopt\n",
      "  Downloading cvxopt-1.2.6-cp37-cp37m-win_amd64.whl (9.5 MB)\n",
      "Installing collected packages: cvxopt\n",
      "Successfully installed cvxopt-1.2.6\n",
      "Note: you may need to restart the kernel to use updated packages.\n"
     ]
    }
   ],
   "source": [
    "pip install cvxopt"
   ]
  },
  {
   "cell_type": "code",
   "execution_count": 3,
   "metadata": {},
   "outputs": [],
   "source": [
    "import matplotlib.pyplot as plt\n",
    "from cvxopt import matrix as cvxopt_matrix\n",
    "from cvxopt import solvers as cvxopt_solvers\n",
    "from sklearn.datasets import make_moons\n",
    "import numpy as np"
   ]
  },
  {
   "cell_type": "code",
   "execution_count": 10,
   "metadata": {},
   "outputs": [],
   "source": [
    "def kernel(X1, X2, scale=1.0, sigma_f=1.0):\n",
    "    ''' Uncomment for Gaussian Kernel '''\n",
    "    sqdist = np.sum(X1**2, 1).reshape(-1, 1) + np.sum(X2**2, 1) - 2 * np.dot(X1, X2.T)\n",
    "    return sigma_f**2 * np.exp((-0.5 / scale**2) * sqdist)\n",
    "#    ''' Uncomment for Linear Kernel '''\n",
    "#    return X1 @ X2.T\n",
    "def dataSet2():\n",
    "    X, y = make_moons(n_samples=100, noise=0.1)\n",
    "    y = np.where(y==0, -1, y)\n",
    "    y = y.reshape(-1,1)\n",
    "    S = (y>0).squeeze()\n",
    "    x_pos = X[S]\n",
    "    x_neg = X[np.invert(S)]\n",
    "    return X,y,x_pos,x_neg"
   ]
  },
  {
   "cell_type": "code",
   "execution_count": 11,
   "metadata": {},
   "outputs": [],
   "source": [
    "def dualOptimizer(H,m,y,C=None):\n",
    "    '''Converting the parameters to standard format for the optimizer function cvxopt_solvers.qp(P, q, G, h, A, b)'''\n",
    "    H = H*1.0   # Multiply 1.0 to convert all values into float\n",
    "    y = y*1.0   # Multiply 1.0 to convert all values into float\n",
    "    P = cvxopt_matrix(H)\n",
    "    q = cvxopt_matrix(-np.ones((m, 1)))\n",
    "    if(C!=None):\n",
    "        G = cvxopt_matrix(np.vstack((np.eye(m)*-1,np.eye(m))))\n",
    "        h = cvxopt_matrix(np.hstack((np.zeros(m), np.ones(m) * C)))\n",
    "    else :\n",
    "        G = cvxopt_matrix(-np.eye(m))\n",
    "        h = cvxopt_matrix(np.zeros(m))\n",
    "    A = cvxopt_matrix(y.reshape(1, -1))\n",
    "    b = cvxopt_matrix(np.zeros(1))\n",
    "    \n",
    "    #Setting solver parameters (change default to decrease tolerance) \n",
    "    cvxopt_solvers.options['show_progress'] = False\n",
    "    cvxopt_solvers.options['abstol'] = 1e-10\n",
    "    cvxopt_solvers.options['reltol'] = 1e-10\n",
    "    cvxopt_solvers.options['feastol'] = 1e-10\n",
    "    \n",
    "    #Run solver\n",
    "    sol = cvxopt_solvers.qp(P, q, G, h, A, b)\n",
    "    alphas = np.array(sol['x'])\n",
    "    return alphas\n",
    "\n",
    "def pred(y,a,X,p,b):\n",
    "    k = kernel(X,p)\n",
    "    return (y * a).T @ k +b\n",
    "    \n",
    "def predb(y,a,X,p):    \n",
    "    k = kernel(X,p)\n",
    "    xc = (y * a).T @ k\n",
    "    print(k.shape,xc.shape)\n",
    "    return np.average(y.T-xc)"
   ]
  },
  {
   "cell_type": "code",
   "execution_count": null,
   "metadata": {},
   "outputs": [],
   "source": [
    "X,y,x_pos,x_neg = dataSet2()\n",
    "k = kernel(X,X)\n",
    "t = np.dot(y,y.T)\n",
    "H = k*t              \n",
    "m,n = X.shape\n",
    "\n",
    "C = float(input(\"Enter value of C\"))\n",
    "alphas = dualOptimizer(H,m,y,C)\n",
    "\n",
    "#Selecting the set of indices S corresponding to non zero parameters\n",
    "S = (alphas > 1e-4).flatten()\n",
    "\n",
    "w = ((y[S] * alphas[S]).T @ X[S]).reshape(-1,1)\n",
    "\n",
    "#Computing b\n",
    "b = predb(y[S],alphas[S],X[S],X[S])\n",
    "\n",
    "#Display results\n",
    "#print('Alphas: ',alphas,'\\n Support Vectors: ',S.reshape(-1,1))\n",
    "#print('Alphas for Support Vectors = ',alphas[alphas > 1e-4])\n",
    "#print('w = ', w.flatten())\n",
    "#print('b = ', b)\n",
    "\n",
    "fig = plt.figure(figsize = (10,10))\n",
    "\n",
    "\n",
    "'''Prediction for p matrix '''\n",
    "x0, x1 = np.meshgrid(np.linspace(-2, 2, 100), np.linspace(-2, 2, 100))\n",
    "p = np.array([x0, x1]).reshape(2, -1).T\n",
    "pr = pred(y[S],alphas[S],X[S],p,b)\n",
    "#print(pr)\n",
    "\n",
    "\n",
    "'''margin hyperplanes'''\n",
    "\n",
    "plt.scatter(x_neg[:,0], x_neg[:,1], marker = 'x', color = 'r', label = 'Negative -1')\n",
    "plt.scatter(x_pos[:,0], x_pos[:,1], marker = 'o', color = 'b',label = 'Positive +1')\n",
    "\n",
    "\n",
    "\n",
    "cp = plt.contour(x0, x1, pred(y[S],alphas[S],X[S],p,b).reshape(100, 100), np.array([-1, 0, 1]))\n",
    "plt.title(\"SVM (soft-margin), C = \" + str(C))\n",
    "plt.clabel(cp, fmt='y=%.f', inline=True, fontsize=15)\n",
    "plt.savefig(\"SVM-soft-margin.jpg\")"
   ]
  },
  {
   "cell_type": "code",
   "execution_count": null,
   "metadata": {},
   "outputs": [],
   "source": []
  }
 ],
 "metadata": {
  "kernelspec": {
   "display_name": "Python 3",
   "language": "python",
   "name": "python3"
  },
  "language_info": {
   "codemirror_mode": {
    "name": "ipython",
    "version": 3
   },
   "file_extension": ".py",
   "mimetype": "text/x-python",
   "name": "python",
   "nbconvert_exporter": "python",
   "pygments_lexer": "ipython3",
   "version": "3.7.0"
  }
 },
 "nbformat": 4,
 "nbformat_minor": 4
}
